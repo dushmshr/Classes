{
 "cells": [
  {
   "cell_type": "code",
   "execution_count": 1,
   "metadata": {},
   "outputs": [],
   "source": [
    "class Orange:\n",
    "    pass\n",
    "# A simple,empty class"
   ]
  },
  {
   "cell_type": "code",
   "execution_count": 2,
   "metadata": {},
   "outputs": [],
   "source": [
    "class Orange:\n",
    "    name = \"Nagpur Orange\" # setting an attribute 'name' of the class\n",
    "    \n",
    "#Defining attributes"
   ]
  },
  {
   "cell_type": "code",
   "execution_count": 3,
   "metadata": {},
   "outputs": [
    {
     "name": "stdout",
     "output_type": "stream",
     "text": [
      "Nagpur Orange\n"
     ]
    }
   ],
   "source": [
    "#instantiate the class Orange and assign it to variable orange\n",
    "orange = Orange()\n",
    "\n",
    "#access the class attribute 'name' inside the class Orange\n",
    "print(orange.name)"
   ]
  },
  {
   "cell_type": "code",
   "execution_count": 4,
   "metadata": {},
   "outputs": [],
   "source": [
    "class Orange:\n",
    "    name = \"Nagpur Orange\"\n",
    "    \n",
    "    def change_name(self,new_name): #1st arg is self\n",
    "        self.name = new_name #accessing the class attribute with self keyword\n",
    "        \n",
    "#Class with Methods & Attributes"
   ]
  },
  {
   "cell_type": "code",
   "execution_count": 7,
   "metadata": {},
   "outputs": [
    {
     "name": "stdout",
     "output_type": "stream",
     "text": [
      "Nagpur Orange\n",
      "Bombay Orange\n"
     ]
    }
   ],
   "source": [
    "#instantiate the class\n",
    "orange = Orange()\n",
    "\n",
    "#print the current value of the object attribute 'name'\n",
    "print(orange.name)\n",
    "\n",
    "#change the name using change_name method\n",
    "orange.change_name(\"Bombay Orange\")\n",
    "print(orange.name)\n"
   ]
  },
  {
   "cell_type": "markdown",
   "metadata": {},
   "source": [
    "instance attributes & init method\n"
   ]
  },
  {
   "cell_type": "code",
   "execution_count": 1,
   "metadata": {},
   "outputs": [],
   "source": [
    "class Orange:\n",
    "    \n",
    "    def __init__(self,name):\n",
    "        self.name = name\n",
    "    \n",
    "    def change_name(self,new_name):\n",
    "        self.name = new_name\n",
    "\n",
    "#Instance attributes & init method.\n",
    "#Values of attributes are provided at runtime.\n",
    "#Attributes are defined inside the init method."
   ]
  },
  {
   "cell_type": "code",
   "execution_count": 9,
   "metadata": {},
   "outputs": [],
   "source": [
    "# instantiation of two variables\n",
    "nagpur = Orange(\"Nagpur Orange\")\n",
    "bombay = Orange(\"Bombay Orange\")\n"
   ]
  },
  {
   "cell_type": "code",
   "execution_count": 11,
   "metadata": {},
   "outputs": [
    {
     "name": "stdout",
     "output_type": "stream",
     "text": [
      "Nagpur Orange\n",
      "Bombay Orange\n"
     ]
    }
   ],
   "source": [
    "print(nagpur.name)\n",
    "#printing the name of the variables\n",
    "print(bombay.name)"
   ]
  },
  {
   "cell_type": "markdown",
   "metadata": {},
   "source": [
    "ACHIEVE INHERITANCE"
   ]
  },
  {
   "cell_type": "code",
   "execution_count": 12,
   "metadata": {},
   "outputs": [
    {
     "ename": "NameError",
     "evalue": "name 'BaseClassName' is not defined",
     "output_type": "error",
     "traceback": [
      "\u001b[1;31m---------------------------------------------------------------------------\u001b[0m",
      "\u001b[1;31mNameError\u001b[0m                                 Traceback (most recent call last)",
      "\u001b[1;32m<ipython-input-12-c71bc21bd4f4>\u001b[0m in \u001b[0;36m<module>\u001b[1;34m()\u001b[0m\n\u001b[1;32m----> 1\u001b[1;33m \u001b[1;32mclass\u001b[0m \u001b[0mDerivedClassName\u001b[0m\u001b[1;33m(\u001b[0m\u001b[0mBaseClassName\u001b[0m\u001b[1;33m)\u001b[0m\u001b[1;33m:\u001b[0m\u001b[1;33m\u001b[0m\u001b[0m\n\u001b[0m\u001b[0;32m      2\u001b[0m     \u001b[1;32mpass\u001b[0m\u001b[1;33m\u001b[0m\u001b[0m\n",
      "\u001b[1;31mNameError\u001b[0m: name 'BaseClassName' is not defined"
     ]
    }
   ],
   "source": [
    "class DerivedClassName(BaseClassName):\n",
    "    pass"
   ]
  },
  {
   "cell_type": "code",
   "execution_count": 27,
   "metadata": {},
   "outputs": [],
   "source": [
    "class Rocket:\n",
    "    def __init__(self,name,distance):\n",
    "        self.name = name\n",
    "        self.distance = distance\n",
    "    \n",
    "    def launch(self):\n",
    "        return \"%s has reached %s\" %(self.name,self.distance)\n",
    "    \n",
    "class Chandrayan(Rocket):\n",
    "    def __init__(self,name,distance,maker):\n",
    "        Rocket.__init__(self,name,distance)\n",
    "        self.maker = maker\n",
    "        \n",
    "    def get_maker(self):\n",
    "        return \"%s launched by %s\" %(self.name,self.maker)\n",
    "\n",
    "#defining base class 'Rocket' and Derived class 'Chandrayan'"
   ]
  },
  {
   "cell_type": "code",
   "execution_count": 15,
   "metadata": {},
   "outputs": [],
   "source": [
    "x = Rocket(\"simple rocket\",\"till outer space\")\n",
    "y = Chandrayan(\"moon rover\",\"till moon\",\"ISRO\")"
   ]
  },
  {
   "cell_type": "code",
   "execution_count": 16,
   "metadata": {},
   "outputs": [
    {
     "name": "stdout",
     "output_type": "stream",
     "text": [
      "simple rocket has reached till outer space\n"
     ]
    }
   ],
   "source": [
    "print(x.launch())"
   ]
  },
  {
   "cell_type": "code",
   "execution_count": 18,
   "metadata": {},
   "outputs": [
    {
     "name": "stdout",
     "output_type": "stream",
     "text": [
      "moon rover has reached till moon\n"
     ]
    }
   ],
   "source": [
    "print(y.launch())"
   ]
  },
  {
   "cell_type": "code",
   "execution_count": 19,
   "metadata": {},
   "outputs": [
    {
     "name": "stdout",
     "output_type": "stream",
     "text": [
      "moon rover launched by ISRO\n"
     ]
    }
   ],
   "source": [
    "print(y.get_maker())"
   ]
  },
  {
   "cell_type": "code",
   "execution_count": 21,
   "metadata": {},
   "outputs": [
    {
     "ename": "SyntaxError",
     "evalue": "invalid syntax (<ipython-input-21-ef1fd1a6ba1c>, line 2)",
     "output_type": "error",
     "traceback": [
      "\u001b[1;36m  File \u001b[1;32m\"<ipython-input-21-ef1fd1a6ba1c>\"\u001b[1;36m, line \u001b[1;32m2\u001b[0m\n\u001b[1;33m    define some attributes and methods\u001b[0m\n\u001b[1;37m              ^\u001b[0m\n\u001b[1;31mSyntaxError\u001b[0m\u001b[1;31m:\u001b[0m invalid syntax\n"
     ]
    }
   ],
   "source": [
    "#Composition. Not inheriting but creating a relationship\n",
    "class GenericClass:\n",
    "    define some attributes and methods\n",
    "\n",
    "class ASpecificClass:\n",
    "    Instance_variable_of_generic_class = GenericClass\n",
    "    \n",
    "# use this instance somewhere in the class\n",
    "    some_method(Instance_variable_of_generic_class)"
   ]
  },
  {
   "cell_type": "code",
   "execution_count": 28,
   "metadata": {},
   "outputs": [],
   "source": [
    "class ChandrayanComp():\n",
    "    def __init__(self,name,distance,maker):\n",
    "        self.rocket = Rocket(name,distance) #instantiating the base\n",
    "        self.maker = maker\n",
    "    \n",
    "    def get_maker(self):\n",
    "        return \"%s launched by %s\" %(self.rocket.name,self.maker)\n",
    "\n"
   ]
  },
  {
   "cell_type": "code",
   "execution_count": 31,
   "metadata": {},
   "outputs": [],
   "source": [
    "z = Chandrayan(\"chandrayan 2\",\"till moon\",\"ISRO\")\n"
   ]
  },
  {
   "cell_type": "code",
   "execution_count": 32,
   "metadata": {},
   "outputs": [
    {
     "data": {
      "text/plain": [
       "'chandrayan 2 has reached till moon'"
      ]
     },
     "execution_count": 32,
     "metadata": {},
     "output_type": "execute_result"
    }
   ],
   "source": [
    "z.launch()"
   ]
  },
  {
   "cell_type": "markdown",
   "metadata": {},
   "source": [
    "Creating Polymorphic Classes"
   ]
  },
  {
   "cell_type": "code",
   "execution_count": 3,
   "metadata": {},
   "outputs": [],
   "source": [
    "#define two classes'Shark' & 'Fish' with methods swim(),swim_back(),skeleton().\n",
    "class Shark():\n",
    "    \n",
    "    def swim(self):\n",
    "        print(\"The shark is swimming\")\n",
    "    \n",
    "    def swim_back(self):\n",
    "        print(\"The shark cannot swim backwards, but can sink backwards\")\n",
    "    \n",
    "    def skeleton(self):\n",
    "        print(\"The shark's skeleton is made of cartilage tissues\")\n",
    "        \n",
    "class Fish():\n",
    "    \n",
    "    def swim(self):\n",
    "        print(\"The fish is swimming\")\n",
    "    \n",
    "    def swim_back(self):\n",
    "        print(\"The fish can swim backwards\")\n",
    "    \n",
    "    def skeleton(self):\n",
    "        print(\"The fish's skeleton is made of bones\")"
   ]
  },
  {
   "cell_type": "code",
   "execution_count": 5,
   "metadata": {},
   "outputs": [
    {
     "name": "stdout",
     "output_type": "stream",
     "text": [
      "The shark's skeleton is made of cartilage tissues\n",
      "The fish's skeleton is made of bones\n"
     ]
    }
   ],
   "source": [
    "#instantiate\n",
    "\n",
    "sha = Shark()\n",
    "sha.skeleton()\n",
    "\n",
    "fi = Fish()\n",
    "fi.skeleton()"
   ]
  },
  {
   "cell_type": "code",
   "execution_count": 6,
   "metadata": {},
   "outputs": [
    {
     "name": "stdout",
     "output_type": "stream",
     "text": [
      "The shark is swimming\n",
      "The shark cannot swim backwards, but can sink backwards\n",
      "The shark's skeleton is made of cartilage tissues\n",
      "The fish is swimming\n",
      "The fish can swim backwards\n",
      "The fish's skeleton is made of bones\n"
     ]
    }
   ],
   "source": [
    "for fish in(sha,fi):\n",
    "    fish.swim()\n",
    "    fish.swim_back()\n",
    "    fish.skeleton()"
   ]
  },
  {
   "cell_type": "code",
   "execution_count": 7,
   "metadata": {},
   "outputs": [],
   "source": [
    "def in_the_sea(fish):\n",
    "    fish.swim()\n",
    "\n",
    "shar = Shark()\n",
    "fis = Fish()\n"
   ]
  },
  {
   "cell_type": "code",
   "execution_count": 8,
   "metadata": {},
   "outputs": [
    {
     "name": "stdout",
     "output_type": "stream",
     "text": [
      "The shark is swimming\n"
     ]
    }
   ],
   "source": [
    "in_the_sea(shar)"
   ]
  },
  {
   "cell_type": "code",
   "execution_count": 9,
   "metadata": {},
   "outputs": [
    {
     "name": "stdout",
     "output_type": "stream",
     "text": [
      "The fish is swimming\n"
     ]
    }
   ],
   "source": [
    "in_the_sea(fis)"
   ]
  },
  {
   "cell_type": "code",
   "execution_count": null,
   "metadata": {},
   "outputs": [],
   "source": []
  }
 ],
 "metadata": {
  "kernelspec": {
   "display_name": "Python 3",
   "language": "python",
   "name": "python3"
  },
  "language_info": {
   "codemirror_mode": {
    "name": "ipython",
    "version": 3
   },
   "file_extension": ".py",
   "mimetype": "text/x-python",
   "name": "python",
   "nbconvert_exporter": "python",
   "pygments_lexer": "ipython3",
   "version": "3.6.2"
  }
 },
 "nbformat": 4,
 "nbformat_minor": 2
}
